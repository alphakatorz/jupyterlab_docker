{
 "cells": [
  {
   "cell_type": "code",
   "execution_count": 1,
   "metadata": {},
   "outputs": [],
   "source": [
    "import ipydeps"
   ]
  },
  {
   "cell_type": "code",
   "execution_count": 2,
   "metadata": {},
   "outputs": [
    {
     "data": {
      "text/html": [
       "<div style=\"font-family:monospace;background:#e6fee6;color:black\"><pre>Packages already installed: pillow, selenium</pre></div>"
      ],
      "text/plain": [
       "<display.HTML object at 0x7fab9816a3b0>"
      ]
     },
     "metadata": {},
     "output_type": "display_data"
    },
    {
     "data": {
      "text/html": [
       "<div style=\"font-family:monospace;background:lightyellow;color:black\"><pre>No new packages installed</pre></div>"
      ],
      "text/plain": [
       "<display.HTML object at 0x7fab981628f0>"
      ]
     },
     "metadata": {},
     "output_type": "display_data"
    },
    {
     "data": {
      "text/html": [
       "<div style=\"font-family:monospace;background:#eee;color:black\"><pre>Done</pre></div>"
      ],
      "text/plain": [
       "<display.HTML object at 0x7fab9816a4b0>"
      ]
     },
     "metadata": {},
     "output_type": "display_data"
    }
   ],
   "source": [
    "ls_deps = [\n",
    "    \"selenium\",\n",
    "    \"Pillow\"\n",
    "]\n",
    "ipydeps.pip(ls_deps)"
   ]
  },
  {
   "cell_type": "code",
   "execution_count": 1,
   "metadata": {},
   "outputs": [],
   "source": [
    "import unittest\n",
    "from PIL import Image\n",
    "from selenium import webdriver\n",
    "from selenium.webdriver.chrome.options import Options\n",
    "from selenium.webdriver.common.desired_capabilities import DesiredCapabilities\n",
    "from selenium.webdriver.common.by import By\n",
    "from selenium.webdriver.support.ui import WebDriverWait\n",
    "from selenium.webdriver.support import expected_conditions as EC\n",
    "options = webdriver.ChromeOptions()\n",
    "options.headless = True\n",
    "options.add_argument('ignore-certificate-errors')"
   ]
  },
  {
   "cell_type": "code",
   "execution_count": 2,
   "metadata": {},
   "outputs": [],
   "source": [
    "driver = webdriver.Remote(\"http://selenium:4444/wd/hub\", DesiredCapabilities.CHROME, options=options)"
   ]
  },
  {
   "cell_type": "markdown",
   "metadata": {},
   "source": [
    "## Login to App"
   ]
  },
  {
   "cell_type": "code",
   "execution_count": null,
   "metadata": {},
   "outputs": [],
   "source": [
    "elem_user = driver.find_element_by_id('userInput')\n",
    "elem_user.clear()\n",
    "elem_user.send_keys('user')\n",
    "elem_password = driver.find_element_by_id('passwordInput')\n",
    "elem_password.clear()\n",
    "elem_password.send_keys('password')\n",
    "button_id = 'mat-focus-indicator mat-raised-button mat-button-base mat-primary mat-button-disabled'\n",
    "elemnt_button = driver.find_element_by_id(button_id)\n",
    "elemnt_button.click()"
   ]
  },
  {
   "cell_type": "code",
   "execution_count": 6,
   "metadata": {},
   "outputs": [],
   "source": [
    "import tempfile\n",
    "import shutil\n",
    "\n",
    "dirpath = tempfile.mkdtemp()\n",
    "# ... do stuff with dirpath\n"
   ]
  },
  {
   "cell_type": "code",
   "execution_count": 7,
   "metadata": {},
   "outputs": [
    {
     "data": {
      "text/plain": [
       "True"
      ]
     },
     "execution_count": 7,
     "metadata": {},
     "output_type": "execute_result"
    }
   ],
   "source": [
    "driver.save_screenshot(f'{dirpath}/screenshot.png')"
   ]
  },
  {
   "cell_type": "code",
   "execution_count": 10,
   "metadata": {},
   "outputs": [
    {
     "ename": "RuntimeError",
     "evalue": "[json.exception.type_error.316] invalid UTF-8 byte at index 0: 0x89",
     "output_type": "error",
     "traceback": [
      "\u001b[0;31m---------------------------------------------------------------------------\u001b[0m\n\u001b[0;31mRuntimeError\u001b[0m                              Traceback (most recent call last)",
      "In  \u001b[0;34m[10]\u001b[0m:\nLine \u001b[0;34m1\u001b[0m:     Image.open(\u001b[33mf\u001b[39;49;00m\u001b[33m'\u001b[39;49;00m\u001b[33m{\u001b[39;49;00mdirpath\u001b[33m}\u001b[39;49;00m\u001b[33m/screenshot.png\u001b[39;49;00m\u001b[33m'\u001b[39;49;00m)\n",
      "\u001b[0;31mRuntimeError\u001b[0m: [json.exception.type_error.316] invalid UTF-8 byte at index 0: 0x89\n\u001b[0;31m---------------------------------------------------------------------------\u001b[0m"
     ]
    }
   ],
   "source": [
    "Image.open(f'{dirpath}/screenshot.png')"
   ]
  },
  {
   "cell_type": "code",
   "execution_count": null,
   "metadata": {},
   "outputs": [],
   "source": [
    "class TestCesiSearch(unittest.TestCase):\n",
    "\n",
    "    def setUp(self):\n",
    "        self.driver = webdriver.Remote()\n",
    "\n",
    "    def tearDown(self):\n",
    "        self.driver.close()\n",
    "\n"
   ]
  },
  {
   "cell_type": "code",
   "execution_count": 6,
   "metadata": {},
   "outputs": [],
   "source": [
    "from selenium import webdriver\n",
    "from selenium.webdriver.common.desired_capabilities import DesiredCapabilities\n",
    "driver = webdriver.Remote(\"http://selenium:4444/wd/hub\", DesiredCapabilities.CHROME)"
   ]
  },
  {
   "cell_type": "code",
   "execution_count": 7,
   "metadata": {},
   "outputs": [],
   "source": [
    "url = 'https://www.google.com'\n",
    "driver.get(url)"
   ]
  },
  {
   "cell_type": "code",
   "execution_count": 8,
   "metadata": {},
   "outputs": [
    {
     "data": {
      "text/plain": [
       "['__class__', '__delattr__', '__dict__', '__dir__', '__doc__', '__enter__', '__eq__', '__exit__', '__format__', '__ge__', '__getattribute__', '__gt__', '__hash__', '__init__', '__init_subclass__', '__le__', '__lt__', '__module__', '__ne__', '__new__', '__reduce__', '__reduce_ex__', '__repr__', '__setattr__', '__sizeof__', '__str__', '__subclasshook__', '__weakref__', '_file_detector', '_is_remote', '_mobile', '_switch_to', '_unwrap_value', '_web_element_cls', '_wrap_value', 'add_cookie', 'application_cache', 'back', 'capabilities', 'close', 'command_executor', 'create_web_element', 'current_url', 'current_window_handle', 'delete_all_cookies', 'delete_cookie', 'desired_capabilities', 'error_handler', 'execute', 'execute_async_script', 'execute_script', 'file_detector', 'file_detector_context', 'find_element', 'find_element_by_class_name', 'find_element_by_css_selector', 'find_element_by_id', 'find_element_by_link_text', 'find_element_by_name', 'find_element_by_partial_link_text', 'find_element_by_tag_name', 'find_element_by_xpath', 'find_elements', 'find_elements_by_class_name', 'find_elements_by_css_selector', 'find_elements_by_id', 'find_elements_by_link_text', 'find_elements_by_name', 'find_elements_by_partial_link_text', 'find_elements_by_tag_name', 'find_elements_by_xpath', 'forward', 'fullscreen_window', 'get', 'get_cookie', 'get_cookies', 'get_log', 'get_screenshot_as_base64', 'get_screenshot_as_file', 'get_screenshot_as_png', 'get_window_position', 'get_window_rect', 'get_window_size', 'implicitly_wait', 'log_types', 'maximize_window', 'minimize_window', 'mobile', 'name', 'orientation', 'page_source', 'quit', 'refresh', 'save_screenshot', 'session_id', 'set_page_load_timeout', 'set_script_timeout', 'set_window_position', 'set_window_rect', 'set_window_size', 'start_client', 'start_session', 'stop_client', 'switch_to', 'switch_to_active_element', 'switch_to_alert', 'switch_to_default_content', 'switch_to_frame', 'switch_to_window', 'title', 'w3c', 'window_handles']"
      ]
     },
     "execution_count": 8,
     "metadata": {},
     "output_type": "execute_result"
    }
   ],
   "source": [
    "dir(driver)"
   ]
  },
  {
   "cell_type": "code",
   "execution_count": 15,
   "metadata": {},
   "outputs": [],
   "source": [
    "url = 'https://www.eastpak.com/fr-fr/sacs-a-dos-c120.html'\n",
    "driver.get(url)"
   ]
  },
  {
   "cell_type": "code",
   "execution_count": 10,
   "metadata": {},
   "outputs": [],
   "source": [
    "assert \"No results found.\" not in driver.page_source"
   ]
  },
  {
   "cell_type": "code",
   "execution_count": 16,
   "metadata": {},
   "outputs": [
    {
     "data": {
      "text/plain": [
       "[]"
      ]
     },
     "execution_count": 16,
     "metadata": {},
     "output_type": "execute_result"
    }
   ],
   "source": [
    "driver.find_elements_by_class_name(\"products list items product-items\")"
   ]
  },
  {
   "cell_type": "code",
   "execution_count": 17,
   "metadata": {},
   "outputs": [
    {
     "data": {
      "text/plain": [
       "[]"
      ]
     },
     "execution_count": 17,
     "metadata": {},
     "output_type": "execute_result"
    }
   ],
   "source": [
    "driver.find_elements_by_class_name('products list items product-items')"
   ]
  },
  {
   "cell_type": "code",
   "execution_count": 20,
   "metadata": {},
   "outputs": [],
   "source": [
    "a = driver.find_element_by_tag_name('ol')"
   ]
  },
  {
   "cell_type": "code",
   "execution_count": 21,
   "metadata": {},
   "outputs": [
    {
     "data": {
      "text/plain": [
       "\"EXCLUSIF EN LIGNE\\nPADDED PAK'R® RUN RABBIT\\n€ 50,00\\n190 COULEURS\\nPADDED PAK'R® SUNDAY GRADIENT\\n€ 50,00\\n190 COULEURS\\nMEILLEURES VENTES\\nPADDED PAK'R® PINK RAY\\n€ 50,00\\n190 COULEURS\\nEXCLUSIF EN LIGNE\\nPADDED PULLER BLACK\\n€ 50,00\\n190 COULEURS\\nEXCLUSIF EN LIGNE\\nOUT OF OFFICE DARK RAY\\n€ 62,00\\n107 COULEURS\\nEXCLUSIF EN LIGNE\\nPADDED PAK'R® MARBLE\\n€ 50,00\\n190 COULEURS\\nTRANZPACK CNNCT COAT\\n€ 137,00\\n1 COULEUR\\nEXCLUSIF EN LIGNE\\nPADDED PAK'R® DARK RAY\\n€ 50,00\\n190 COULEURS\\nTRANZPACK TOPPED BLACK\\n€ 117,00\\n1 COULEUR\\nFLOID MONO NIGHT\\n€ 72,00\\n7 COULEURS\\nPADDED PAK'R® GOLDOUT BLACK-GOLD\\n€ 67,00\\n15 COULEURS\\nPADDED DOUBLE POOL BLUE\\n€ 67,00\\n6 COULEURS\\nEXCLUSIF EN LIGNE\\nPADDED PAK'R® SUPER SPOTS BW\\n€ 65,00\\n190 COULEURS\\nEXCLUSIF EN LIGNE\\nPADDED PAK'R® CARNATION BLACK\\n€ 50,00\\n190 COULEURS\\nEXCLUSIF EN LIGNE\\nPADDED PAK'R® LILL' DOT\\n€ 50,00\\n190 COULEURS\\nEXCLUSIF EN LIGNE\\nPADDED PAK'R® CRUSHED PINK\\n€ 57,00\\n190 COULEURS\\nEXCLUSIF EN LIGNE\\nOUT OF OFFICE PINK RAY\\n€ 69,00\\n107 COULEURS\\nEXCLUSIF EN LIGNE\\nPADDED PAK'R® MINIMAL FEATHER\\n€ 65,00\\n3 COULEURS\\nTRANZPACK REFLECTIVE GREY\\n€ 100,00\\n17 COULEURS\\nPADDED PAK'R® BLACK INK LEATHER\\n€ 189,00\\n6 COULEURS\\nPADDED ZIPPL'R + BOLD TAPED\\n€ 55,00\\n53 COULEURS\\nPADDED PAK'R® BLAKOUT STRIPE RED\\n€ 50,00\\n190 COULEURS\""
      ]
     },
     "execution_count": 21,
     "metadata": {},
     "output_type": "execute_result"
    }
   ],
   "source": [
    "a.text"
   ]
  },
  {
   "cell_type": "code",
   "execution_count": 3,
   "metadata": {},
   "outputs": [],
   "source": [
    "driver.get('https://reve-dev.westeurope.cloudapp.azure.com')"
   ]
  },
  {
   "cell_type": "code",
   "execution_count": 47,
   "metadata": {},
   "outputs": [],
   "source": [
    "bytes_screenshot = driver.get_"
   ]
  },
  {
   "cell_type": "code",
   "execution_count": 29,
   "metadata": {},
   "outputs": [],
   "source": [
    "from PIL import Image"
   ]
  },
  {
   "cell_type": "code",
   "execution_count": 30,
   "metadata": {},
   "outputs": [
    {
     "ename": "ImportError",
     "evalue": "cannot import name 'Image' from 'IPython.display' (/usr/local/lib/python3.8/dist-packages/IPython/display.py)",
     "output_type": "error",
     "traceback": [
      "\u001b[0;31m---------------------------------------------------------------------------\u001b[0m\n\u001b[0;31mImportError\u001b[0m                               Traceback (most recent call last)",
      "In  \u001b[0;34m[30]\u001b[0m:\nLine \u001b[0;34m1\u001b[0m:     \u001b[34mfrom\u001b[39;49;00m \u001b[04m\u001b[36mIPython\u001b[39;49;00m\u001b[04m\u001b[36m.\u001b[39;49;00m\u001b[04m\u001b[36mdisplay\u001b[39;49;00m \u001b[34mimport\u001b[39;49;00m Image\n",
      "\u001b[0;31mImportError\u001b[0m: cannot import name 'Image' from 'IPython.display' (/usr/local/lib/python3.8/dist-packages/IPython/display.py)\n\u001b[0;31m---------------------------------------------------------------------------\u001b[0m"
     ]
    }
   ],
   "source": [
    "from IPython.display import Image"
   ]
  },
  {
   "cell_type": "code",
   "execution_count": 31,
   "metadata": {},
   "outputs": [
    {
     "ename": "TypeError",
     "evalue": "frombytes() missing 2 required positional arguments: 'size' and 'data'",
     "output_type": "error",
     "traceback": [
      "\u001b[0;31m---------------------------------------------------------------------------\u001b[0m\n\u001b[0;31mTypeError\u001b[0m                                 Traceback (most recent call last)",
      "In  \u001b[0;34m[31]\u001b[0m:\nLine \u001b[0;34m1\u001b[0m:     Image.frombytes(bytes_screenshot)\n",
      "\u001b[0;31mTypeError\u001b[0m: frombytes() missing 2 required positional arguments: 'size' and 'data'\n\u001b[0;31m---------------------------------------------------------------------------\u001b[0m"
     ]
    }
   ],
   "source": [
    "Image.frombytes(bytes_screenshot)"
   ]
  },
  {
   "cell_type": "code",
   "execution_count": 40,
   "metadata": {},
   "outputs": [
    {
     "ename": "RuntimeError",
     "evalue": "[json.exception.type_error.316] invalid UTF-8 byte at index 0: 0x89",
     "output_type": "error",
     "traceback": [
      "\u001b[0;31m---------------------------------------------------------------------------\u001b[0m\n\u001b[0;31mRuntimeError\u001b[0m                              Traceback (most recent call last)",
      "In  \u001b[0;34m[40]\u001b[0m:\nLine \u001b[0;34m1\u001b[0m:     Image.open(BytesIO(bytes_screenshot))\n",
      "\u001b[0;31mRuntimeError\u001b[0m: [json.exception.type_error.316] invalid UTF-8 byte at index 0: 0x89\n\u001b[0;31m---------------------------------------------------------------------------\u001b[0m"
     ]
    }
   ],
   "source": [
    "Image.open(BytesIO(bytes_screenshot))\n"
   ]
  },
  {
   "cell_type": "code",
   "execution_count": 39,
   "metadata": {},
   "outputs": [],
   "source": [
    "from io import StringIO, BytesIO"
   ]
  },
  {
   "cell_type": "code",
   "execution_count": 42,
   "metadata": {},
   "outputs": [
    {
     "ename": "UnicodeDecodeError",
     "evalue": "'utf-8' codec can't decode byte 0x89 in position 0: invalid start byte",
     "output_type": "error",
     "traceback": [
      "\u001b[0;31m---------------------------------------------------------------------------\u001b[0m\n\u001b[0;31mUnicodeDecodeError\u001b[0m                        Traceback (most recent call last)",
      "In  \u001b[0;34m[42]\u001b[0m:\nLine \u001b[0;34m1\u001b[0m:     bytes_screenshot.decode()\n",
      "\u001b[0;31mUnicodeDecodeError\u001b[0m: 'utf-8' codec can't decode byte 0x89 in position 0: invalid start byte\n\u001b[0;31m---------------------------------------------------------------------------\u001b[0m"
     ]
    }
   ],
   "source": [
    "bytes_screenshot.decode()"
   ]
  },
  {
   "cell_type": "code",
   "execution_count": 50,
   "metadata": {},
   "outputs": [
    {
     "ename": "ValueError",
     "evalue": "Size must be a tuple",
     "output_type": "error",
     "traceback": [
      "\u001b[0;31m---------------------------------------------------------------------------\u001b[0m\n\u001b[0;31mValueError\u001b[0m                                Traceback (most recent call last)",
      "In  \u001b[0;34m[50]\u001b[0m:\nLine \u001b[0;34m1\u001b[0m:     Image.frombuffer(\u001b[33m'\u001b[39;49;00m\u001b[33mRGBA\u001b[39;49;00m\u001b[33m'\u001b[39;49;00m, bytes_screenshot, \u001b[36mlen\u001b[39;49;00m(bytes_screenshot))\n",
      "File \u001b[0;34m/root/.local/lib/python3.8/site-packages/PIL/Image.py\u001b[0m, in \u001b[0;32mfrombuffer\u001b[0m:\nLine \u001b[0;34m2710\u001b[0m:  _check_size(size)\n",
      "File \u001b[0;34m/root/.local/lib/python3.8/site-packages/PIL/Image.py\u001b[0m, in \u001b[0;32m_check_size\u001b[0m:\nLine \u001b[0;34m2589\u001b[0m:  \u001b[34mraise\u001b[39;49;00m \u001b[36mValueError\u001b[39;49;00m(\u001b[33m\"\u001b[39;49;00m\u001b[33mSize must be a tuple\u001b[39;49;00m\u001b[33m\"\u001b[39;49;00m)\n",
      "\u001b[0;31mValueError\u001b[0m: Size must be a tuple\n\u001b[0;31m---------------------------------------------------------------------------\u001b[0m"
     ]
    }
   ],
   "source": [
    "Image.frombuffer('RGBA', bytes_screenshot, len(bytes_screenshot))"
   ]
  },
  {
   "cell_type": "code",
   "execution_count": 49,
   "metadata": {},
   "outputs": [
    {
     "data": {
      "text/plain": [
       "42758"
      ]
     },
     "execution_count": 49,
     "metadata": {},
     "output_type": "execute_result"
    }
   ],
   "source": [
    "len(bytes_screenshot)"
   ]
  },
  {
   "cell_type": "code",
   "execution_count": 51,
   "metadata": {},
   "outputs": [
    {
     "ename": "AttributeError",
     "evalue": "'_io.BytesIO' object has no attribute 'save'",
     "output_type": "error",
     "traceback": [
      "\u001b[0;31m---------------------------------------------------------------------------\u001b[0m\n\u001b[0;31mAttributeError\u001b[0m                            Traceback (most recent call last)",
      "In  \u001b[0;34m[51]\u001b[0m:\nLine \u001b[0;34m2\u001b[0m:     img_file.save(bytes_screenshot)\n",
      "\u001b[0;31mAttributeError\u001b[0m: '_io.BytesIO' object has no attribute 'save'\n\u001b[0;31m---------------------------------------------------------------------------\u001b[0m"
     ]
    }
   ],
   "source": [
    "img_file = BytesIO()\n",
    "img_file.save(bytes_screenshot)\n",
    "img_file.tell()"
   ]
  },
  {
   "cell_type": "code",
   "execution_count": 9,
   "metadata": {},
   "outputs": [],
   "source": [
    "from PIL import Image"
   ]
  },
  {
   "cell_type": "code",
   "execution_count": 52,
   "metadata": {},
   "outputs": [
    {
     "ename": "AttributeError",
     "evalue": "'bytes' object has no attribute 'save'",
     "output_type": "error",
     "traceback": [
      "\u001b[0;31m---------------------------------------------------------------------------\u001b[0m\n\u001b[0;31mAttributeError\u001b[0m                            Traceback (most recent call last)",
      "In  \u001b[0;34m[52]\u001b[0m:\nLine \u001b[0;34m2\u001b[0m:     bytes_screenshot.save(\u001b[33m'\u001b[39;49;00m\u001b[33ma_screen\u001b[39;49;00m\u001b[33m'\u001b[39;49;00m, \u001b[33m'\u001b[39;49;00m\u001b[33mpng\u001b[39;49;00m\u001b[33m'\u001b[39;49;00m)\n",
      "\u001b[0;31mAttributeError\u001b[0m: 'bytes' object has no attribute 'save'\n\u001b[0;31m---------------------------------------------------------------------------\u001b[0m"
     ]
    }
   ],
   "source": [
    "img_file = BytesIO()\n",
    "bytes_screenshot.save('a_screen', 'png')\n",
    "image_file_size = img_file.tell()"
   ]
  },
  {
   "cell_type": "code",
   "execution_count": 53,
   "metadata": {},
   "outputs": [],
   "source": [
    "import tempfile\n",
    "import shutil\n",
    "\n",
    "dirpath = tempfile.mkdtemp()\n",
    "# ... do stuff with dirpath\n"
   ]
  },
  {
   "cell_type": "code",
   "execution_count": 5,
   "metadata": {},
   "outputs": [
    {
     "ename": "NoSuchElementException",
     "evalue": "Message: no such element: Unable to locate element: {\"method\":\"css selector\",\"selector\":\"[id=\"mat-focus-indicator mat-raised-button mat-button-base mat-primary mat-button-disabled\"]\"}\n  (Session info: headless chrome=87.0.4280.88)\n",
     "output_type": "error",
     "traceback": [
      "\u001b[0;31m---------------------------------------------------------------------------\u001b[0m\n\u001b[0;31mNoSuchElementException\u001b[0m                    Traceback (most recent call last)",
      "In  \u001b[0;34m[5]\u001b[0m:\nLine \u001b[0;34m8\u001b[0m:     elemnt_button = driver.find_element_by_id(button_id)\n",
      "File \u001b[0;34m/root/.local/lib/python3.8/site-packages/selenium/webdriver/remote/webdriver.py\u001b[0m, in \u001b[0;32mfind_element_by_id\u001b[0m:\nLine \u001b[0;34m360\u001b[0m:   \u001b[34mreturn\u001b[39;49;00m \u001b[36mself\u001b[39;49;00m.find_element(by=By.ID, value=id_)\n",
      "File \u001b[0;34m/root/.local/lib/python3.8/site-packages/selenium/webdriver/remote/webdriver.py\u001b[0m, in \u001b[0;32mfind_element\u001b[0m:\nLine \u001b[0;34m976\u001b[0m:   \u001b[34mreturn\u001b[39;49;00m \u001b[36mself\u001b[39;49;00m.execute(Command.FIND_ELEMENT, {\n",
      "File \u001b[0;34m/root/.local/lib/python3.8/site-packages/selenium/webdriver/remote/webdriver.py\u001b[0m, in \u001b[0;32mexecute\u001b[0m:\nLine \u001b[0;34m321\u001b[0m:   \u001b[36mself\u001b[39;49;00m.error_handler.check_response(response)\n",
      "File \u001b[0;34m/root/.local/lib/python3.8/site-packages/selenium/webdriver/remote/errorhandler.py\u001b[0m, in \u001b[0;32mcheck_response\u001b[0m:\nLine \u001b[0;34m242\u001b[0m:   \u001b[34mraise\u001b[39;49;00m exception_class(message, screen, stacktrace)\n",
      "\u001b[0;31mNoSuchElementException\u001b[0m: Message: no such element: Unable to locate element: {\"method\":\"css selector\",\"selector\":\"[id=\"mat-focus-indicator mat-raised-button mat-button-base mat-primary mat-button-disabled\"]\"}\n  (Session info: headless chrome=87.0.4280.88)\n\n\u001b[0;31m---------------------------------------------------------------------------\u001b[0m"
     ]
    }
   ],
   "source": [
    "elem_user = driver.find_element_by_id('userInput')\n",
    "elem_user.clear()\n",
    "elem_user.send_keys('user')\n",
    "elem_password = driver.find_element_by_id('passwordInput')\n",
    "elem_password.clear()\n",
    "elem_password.send_keys('password')\n",
    "button_id = 'mat-focus-indicator mat-raised-button mat-button-base mat-primary mat-button-disabled'\n",
    "elemnt_button = driver.find_element_by_id(button_id)\n",
    "elemnt_button.click()"
   ]
  },
  {
   "cell_type": "code",
   "execution_count": 4,
   "metadata": {},
   "outputs": [],
   "source": [
    "elem_user = driver.find_element_by_id('userInput')"
   ]
  },
  {
   "cell_type": "code",
   "execution_count": 7,
   "metadata": {},
   "outputs": [
    {
     "ename": "NoSuchElementException",
     "evalue": "Message: no such element: Unable to locate element: {\"method\":\"css selector\",\"selector\":\".mat-form-field mat-full-width ng-tns-c95-0 mat-primary mat-form-field-type-mat-input mat-form-field-appearance-legacy mat-form-field-can-float mat-form-field-has-label mat-form-field-hide-placeholder ng-untouched ng-pristine ng-invalid\"}\n  (Session info: chrome=87.0.4280.88)\n",
     "output_type": "error",
     "traceback": [
      "\u001b[0;31m---------------------------------------------------------------------------\u001b[0m\n\u001b[0;31mNoSuchElementException\u001b[0m                    Traceback (most recent call last)",
      "In  \u001b[0;34m[7]\u001b[0m:\nLine \u001b[0;34m1\u001b[0m:     driver.find_element_by_class_name(\u001b[33m'\u001b[39;49;00m\u001b[33mmat-form-field mat-full-width ng-tns-c95-0 mat-primary mat-form-field-type-mat-input mat-form-field-appearance-legacy mat-form-field-can-float mat-form-field-has-label mat-form-field-hide-placeholder ng-untouched ng-pristine ng-invalid\u001b[39;49;00m\u001b[33m'\u001b[39;49;00m)\n",
      "File \u001b[0;34m/root/.local/lib/python3.8/site-packages/selenium/webdriver/remote/webdriver.py\u001b[0m, in \u001b[0;32mfind_element_by_class_name\u001b[0m:\nLine \u001b[0;34m564\u001b[0m:   \u001b[34mreturn\u001b[39;49;00m \u001b[36mself\u001b[39;49;00m.find_element(by=By.CLASS_NAME, value=name)\n",
      "File \u001b[0;34m/root/.local/lib/python3.8/site-packages/selenium/webdriver/remote/webdriver.py\u001b[0m, in \u001b[0;32mfind_element\u001b[0m:\nLine \u001b[0;34m976\u001b[0m:   \u001b[34mreturn\u001b[39;49;00m \u001b[36mself\u001b[39;49;00m.execute(Command.FIND_ELEMENT, {\n",
      "File \u001b[0;34m/root/.local/lib/python3.8/site-packages/selenium/webdriver/remote/webdriver.py\u001b[0m, in \u001b[0;32mexecute\u001b[0m:\nLine \u001b[0;34m321\u001b[0m:   \u001b[36mself\u001b[39;49;00m.error_handler.check_response(response)\n",
      "File \u001b[0;34m/root/.local/lib/python3.8/site-packages/selenium/webdriver/remote/errorhandler.py\u001b[0m, in \u001b[0;32mcheck_response\u001b[0m:\nLine \u001b[0;34m242\u001b[0m:   \u001b[34mraise\u001b[39;49;00m exception_class(message, screen, stacktrace)\n",
      "\u001b[0;31mNoSuchElementException\u001b[0m: Message: no such element: Unable to locate element: {\"method\":\"css selector\",\"selector\":\".mat-form-field mat-full-width ng-tns-c95-0 mat-primary mat-form-field-type-mat-input mat-form-field-appearance-legacy mat-form-field-can-float mat-form-field-has-label mat-form-field-hide-placeholder ng-untouched ng-pristine ng-invalid\"}\n  (Session info: chrome=87.0.4280.88)\n\n\u001b[0;31m---------------------------------------------------------------------------\u001b[0m"
     ]
    }
   ],
   "source": [
    "driver.find_element_by_class_name('mat-form-field mat-full-width ng-tns-c95-0 mat-primary mat-form-field-type-mat-input mat-form-field-appearance-legacy mat-form-field-can-float mat-form-field-has-label mat-form-field-hide-placeholder ng-untouched ng-pristine ng-invalid')\n"
   ]
  },
  {
   "cell_type": "code",
   "execution_count": null,
   "metadata": {},
   "outputs": [],
   "source": [
    "driver.find_element_by_xpath(\"//input[@class='ttAH_button03']\").click()\n",
    "WebDriverWait(driver, 20).until(EC.frame_to_be_available_and_switch_to_it((By.ID, \"ws\")))\n",
    "WebDriverWait(driver, 20).until(EC.element_to_be_clickable((By.XPATH, \"//input[@class='inputlong' and @id='identificacionUsuario']\"))).send_keys(\"your_name\")\n",
    "driver.find_element_by_xpath(\"//input[@id='claveConsultiva' and @name='claveConsultiva']\").send_keys(\"your_password\")\n",
    "driver.find_element_by_link_text(\"Entrar no NetBanco Particulares\").click()"
   ]
  },
  {
   "cell_type": "code",
   "execution_count": 9,
   "metadata": {},
   "outputs": [
    {
     "ename": "NoSuchElementException",
     "evalue": "Message: no such element: Unable to locate element: {\"method\":\"xpath\",\"selector\":\"//mat-form-field[@class=class_to_search]\"}\n  (Session info: chrome=87.0.4280.88)\n",
     "output_type": "error",
     "traceback": [
      "\u001b[0;31m---------------------------------------------------------------------------\u001b[0m\n\u001b[0;31mNoSuchElementException\u001b[0m                    Traceback (most recent call last)",
      "In  \u001b[0;34m[9]\u001b[0m:\nLine \u001b[0;34m2\u001b[0m:     driver.find_element_by_xpath(\u001b[33m'\u001b[39;49;00m\u001b[33m//mat-form-field[@class=class_to_search]\u001b[39;49;00m\u001b[33m'\u001b[39;49;00m)\n",
      "File \u001b[0;34m/root/.local/lib/python3.8/site-packages/selenium/webdriver/remote/webdriver.py\u001b[0m, in \u001b[0;32mfind_element_by_xpath\u001b[0m:\nLine \u001b[0;34m394\u001b[0m:   \u001b[34mreturn\u001b[39;49;00m \u001b[36mself\u001b[39;49;00m.find_element(by=By.XPATH, value=xpath)\n",
      "File \u001b[0;34m/root/.local/lib/python3.8/site-packages/selenium/webdriver/remote/webdriver.py\u001b[0m, in \u001b[0;32mfind_element\u001b[0m:\nLine \u001b[0;34m976\u001b[0m:   \u001b[34mreturn\u001b[39;49;00m \u001b[36mself\u001b[39;49;00m.execute(Command.FIND_ELEMENT, {\n",
      "File \u001b[0;34m/root/.local/lib/python3.8/site-packages/selenium/webdriver/remote/webdriver.py\u001b[0m, in \u001b[0;32mexecute\u001b[0m:\nLine \u001b[0;34m321\u001b[0m:   \u001b[36mself\u001b[39;49;00m.error_handler.check_response(response)\n",
      "File \u001b[0;34m/root/.local/lib/python3.8/site-packages/selenium/webdriver/remote/errorhandler.py\u001b[0m, in \u001b[0;32mcheck_response\u001b[0m:\nLine \u001b[0;34m242\u001b[0m:   \u001b[34mraise\u001b[39;49;00m exception_class(message, screen, stacktrace)\n",
      "\u001b[0;31mNoSuchElementException\u001b[0m: Message: no such element: Unable to locate element: {\"method\":\"xpath\",\"selector\":\"//mat-form-field[@class=class_to_search]\"}\n  (Session info: chrome=87.0.4280.88)\n\n\u001b[0;31m---------------------------------------------------------------------------\u001b[0m"
     ]
    }
   ],
   "source": [
    "class_to_search = \"mat-form-field mat-full-width ng-tns-c95-0 mat-primary mat-form-field-type-mat-input mat-form-field-appearance-legacy mat-form-field-can-float mat-form-field-has-label mat-form-field-hide-placeholder ng-untouched ng-pristine ng-invalid\"\n",
    "driver.find_element_by_xpath('//mat-form-field[@class=class_to_search]')"
   ]
  },
  {
   "cell_type": "code",
   "execution_count": null,
   "metadata": {},
   "outputs": [],
   "source": []
  }
 ],
 "metadata": {
  "kernelspec": {
   "display_name": "Python 3.8 (XPython)",
   "language": "python",
   "name": "xpython"
  },
  "language_info": {
   "file_extension": ".py",
   "mimetype": "text/x-python",
   "name": "python",
   "version": "3.8.6"
  }
 },
 "nbformat": 4,
 "nbformat_minor": 4
}
